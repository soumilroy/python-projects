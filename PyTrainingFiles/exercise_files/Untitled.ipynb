{
 "cells": [
  {
   "cell_type": "code",
   "execution_count": 1,
   "id": "17d19c38",
   "metadata": {},
   "outputs": [
    {
     "name": "stdout",
     "output_type": "stream",
     "text": [
      "Hello jupyter\n"
     ]
    }
   ],
   "source": [
    "print(\"Hello jupyter\");"
   ]
  },
  {
   "cell_type": "markdown",
   "id": "8c093832",
   "metadata": {},
   "source": [
    "Some Markdown Text"
   ]
  },
  {
   "cell_type": "markdown",
   "id": "54f18870",
   "metadata": {},
   "source": [
    "# Markdown Heading"
   ]
  },
  {
   "cell_type": "code",
   "execution_count": null,
   "id": "96e15be5",
   "metadata": {},
   "outputs": [],
   "source": []
  }
 ],
 "metadata": {
  "kernelspec": {
   "display_name": "Python 3 (ipykernel)",
   "language": "python",
   "name": "python3"
  },
  "language_info": {
   "codemirror_mode": {
    "name": "ipython",
    "version": 3
   },
   "file_extension": ".py",
   "mimetype": "text/x-python",
   "name": "python",
   "nbconvert_exporter": "python",
   "pygments_lexer": "ipython3",
   "version": "3.10.3"
  }
 },
 "nbformat": 4,
 "nbformat_minor": 5
}
